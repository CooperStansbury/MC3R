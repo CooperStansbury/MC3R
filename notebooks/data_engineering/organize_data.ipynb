{
 "cells": [
  {
   "cell_type": "code",
   "execution_count": 1,
   "id": "98427f35-089a-4308-8b02-910f41a6c70b",
   "metadata": {},
   "outputs": [],
   "source": [
    "import pandas as pd\n",
    "import numpy as np\n",
    "import os\n",
    "import sys\n",
    "import scanpy as sc\n",
    "\n",
    "import matplotlib.pyplot as plt"
   ]
  },
  {
   "cell_type": "code",
   "execution_count": 2,
   "id": "ff39be28-f063-4056-b4ce-fc6e940629fd",
   "metadata": {},
   "outputs": [
    {
     "name": "stdout",
     "output_type": "stream",
     "text": [
      "done: fasted_f\n",
      "done: fed_m\n",
      "done: fed_f\n",
      "done: fasted_m\n",
      "done\n"
     ]
    }
   ],
   "source": [
    "dirpath = \"/nfs/turbo/umms-indikar/shared/projects/MC3R/10x_analysis_7392-GD/\"\n",
    "subdir_path = \"filtered_feature_bc_matrix\"\n",
    "\n",
    "data_names = {\n",
    "    \"Sample_7392-GD-4-GEX_ACAATGTGAA-TAACGGTACG\" : \"fasted_f\",\n",
    "    \"Sample_7392-GD-1-GEX_TTATTCGAGG-AGCAGGACAG\" : \"fed_m\",\n",
    "    \"Sample_7392-GD-3-GEX_TGTAGTCATT-TACGATCAAG\" : \"fed_f\",\n",
    "    \"Sample_7392-GD-2-GEX_AAGATTGGAT-AAATCCCGCT\" : \"fasted_m\",\n",
    "}\n",
    "\n",
    "data = {}\n",
    "\n",
    "for key in os.listdir(dirpath):\n",
    "    name = data_names[key]\n",
    "\n",
    "    fpath = f\"{dirpath}{key}/{subdir_path}/\"\n",
    "    anndata = sc.read_10x_mtx(fpath, cache=True)\n",
    "\n",
    "    data[name] = anndata\n",
    "    print(f\"done: {name}\")\n",
    "    # break\n",
    "    \n",
    "print('done')"
   ]
  },
  {
   "cell_type": "code",
   "execution_count": 3,
   "id": "08a9b37f-9e72-45ad-9997-086980cdb6c7",
   "metadata": {},
   "outputs": [
    {
     "name": "stdout",
     "output_type": "stream",
     "text": [
      "fasted_f raw.shape=(12171, 22861) X.shape=(12171, 22861)\n",
      "fed_m raw.shape=(9249, 21851) X.shape=(9249, 21851)\n",
      "fed_f raw.shape=(11290, 22047) X.shape=(11290, 22047)\n",
      "fasted_m raw.shape=(10227, 22211) X.shape=(10227, 22211)\n",
      "meta.shape=(42937, 3)\n",
      "\n",
      "condition\n",
      "fasted    22398\n",
      "fed       20539\n",
      "Name: count, dtype: int64\n",
      "\n",
      "sex\n",
      "f    23461\n",
      "m    19476\n",
      "Name: count, dtype: int64\n",
      "done\n"
     ]
    }
   ],
   "source": [
    "outdir = \"/nfs/turbo/umms-indikar/shared/projects/MC3R/clean_data/\"\n",
    "\n",
    "target_sum = 1e6 # counts per million\n",
    "\n",
    "meta = []\n",
    "\n",
    "for key, anndata in data.items():\n",
    "\n",
    "    # FILTERS!!!!\n",
    "    sc.pp.filter_cells(anndata, min_genes=500)\n",
    "    sc.pp.filter_genes(anndata, min_cells=10)\n",
    "    \n",
    "    # normalize all gene expression\n",
    "    d = sc.pp.normalize_total(anndata, \n",
    "                              target_sum=target_sum, \n",
    "                              exclude_highly_expressed=False,\n",
    "                              inplace=False)\n",
    "\n",
    "    # extract simplified data structures for saving\n",
    "    raw = anndata.to_df().astype(int)\n",
    "\n",
    "    # normalized data structure \n",
    "    X = pd.DataFrame(d['X'].todense(), \n",
    "                     columns=raw.columns, \n",
    "                     index=raw.index)\n",
    "\n",
    "    print(f\"{key} {raw.shape=} {X.shape=}\")\n",
    "\n",
    "    tmp = pd.DataFrame(raw.index, columns=['barcode'])\n",
    "    tmp['condition'] = key.split(\"_\")[0]\n",
    "    tmp['sex'] = key.split(\"_\")[1]\n",
    "\n",
    "    meta.append(tmp)\n",
    "\n",
    "    \"\"\" SAVE STUFF \"\"\"\n",
    "    fname = f\"{outdir}{key}_raw.pq\"\n",
    "    raw.to_parquet(fname)\n",
    "\n",
    "    fname = f\"{outdir}{key}_cpm.pq\"\n",
    "    X.to_parquet(fname)\n",
    "\n",
    "    # print(f\"done: {key}\")\n",
    "    # break\n",
    "    \n",
    "\n",
    "meta = pd.concat(meta)\n",
    "print(f\"{meta.shape=}\")\n",
    "print()\n",
    "print(meta['condition'].value_counts())\n",
    "print()\n",
    "print(meta['sex'].value_counts())\n",
    "\n",
    "\"\"\" SAVE METADATA \"\"\"\n",
    "fname = f\"{outdir}metadata.pq\"\n",
    "meta.to_parquet(fname)\n",
    "\n",
    "print('done')"
   ]
  },
  {
   "cell_type": "code",
   "execution_count": null,
   "id": "7935cdf0-8024-498b-b491-2b9d56d6995d",
   "metadata": {},
   "outputs": [],
   "source": []
  }
 ],
 "metadata": {
  "kernelspec": {
   "display_name": "Python 3 (ipykernel)",
   "language": "python",
   "name": "python3"
  },
  "language_info": {
   "codemirror_mode": {
    "name": "ipython",
    "version": 3
   },
   "file_extension": ".py",
   "mimetype": "text/x-python",
   "name": "python",
   "nbconvert_exporter": "python",
   "pygments_lexer": "ipython3",
   "version": "3.9.7"
  }
 },
 "nbformat": 4,
 "nbformat_minor": 5
}
