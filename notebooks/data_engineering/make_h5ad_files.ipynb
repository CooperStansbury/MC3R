{
 "cells": [
  {
   "cell_type": "code",
   "execution_count": 1,
   "id": "4a3b8680-7e34-4cf5-8a12-e38def2c5c99",
   "metadata": {},
   "outputs": [],
   "source": [
    "import pandas as pd\n",
    "import numpy as np\n",
    "import os\n",
    "import sys\n",
    "import scanpy as sc\n",
    "\n",
    "import matplotlib.pyplot as plt"
   ]
  },
  {
   "cell_type": "code",
   "execution_count": 2,
   "id": "e0eabf89-5a22-4b00-9632-10149f0c0c47",
   "metadata": {},
   "outputs": [
    {
     "name": "stdout",
     "output_type": "stream",
     "text": [
      "done: fasted_f\n",
      "done: fed_m\n",
      "done: fed_f\n",
      "done: fasted_m\n",
      "done\n"
     ]
    }
   ],
   "source": [
    "dirpath = \"/nfs/turbo/umms-indikar/shared/projects/MC3R/10x_analysis_7392-GD/\"\n",
    "subdir_path = \"filtered_feature_bc_matrix\"\n",
    "\n",
    "data_names = {\n",
    "    \"Sample_7392-GD-4-GEX_ACAATGTGAA-TAACGGTACG\" : \"fasted_f\",\n",
    "    \"Sample_7392-GD-1-GEX_TTATTCGAGG-AGCAGGACAG\" : \"fed_m\",\n",
    "    \"Sample_7392-GD-3-GEX_TGTAGTCATT-TACGATCAAG\" : \"fed_f\",\n",
    "    \"Sample_7392-GD-2-GEX_AAGATTGGAT-AAATCCCGCT\" : \"fasted_m\",\n",
    "}\n",
    "\n",
    "data = {}\n",
    "\n",
    "for key in os.listdir(dirpath):\n",
    "    name = data_names[key]\n",
    "\n",
    "    fpath = f\"{dirpath}{key}/{subdir_path}/\"\n",
    "    anndata = sc.read_10x_mtx(fpath, cache=True)\n",
    "\n",
    "    data[name] = anndata\n",
    "    print(f\"done: {name}\")\n",
    "    # break\n",
    "    \n",
    "print('done')"
   ]
  },
  {
   "cell_type": "code",
   "execution_count": 5,
   "id": "19880b79-0c03-4b86-951f-f3ca1fa6b0da",
   "metadata": {},
   "outputs": [
    {
     "name": "stdout",
     "output_type": "stream",
     "text": [
      "done: fasted_f\n",
      "done: fed_m\n",
      "done: fed_f\n",
      "done: fasted_m\n",
      "done!\n"
     ]
    }
   ],
   "source": [
    "outdir = \"/nfs/turbo/umms-indikar/shared/projects/MC3R/h5ad_files/\"\n",
    "\n",
    "for key, anndata in data.items():\n",
    "    fname = f\"{outdir}{key}.h5ad\"\n",
    "\n",
    "    anndata.write(fname)\n",
    "    print(f'done: {key}')\n",
    "    \n",
    "    # print(key, fname)\n",
    "\n",
    "print('done!')"
   ]
  },
  {
   "cell_type": "code",
   "execution_count": null,
   "id": "1ac1a9a0-8f83-4553-80cf-8ff250a213e1",
   "metadata": {},
   "outputs": [],
   "source": []
  }
 ],
 "metadata": {
  "kernelspec": {
   "display_name": "Python 3 (ipykernel)",
   "language": "python",
   "name": "python3"
  },
  "language_info": {
   "codemirror_mode": {
    "name": "ipython",
    "version": 3
   },
   "file_extension": ".py",
   "mimetype": "text/x-python",
   "name": "python",
   "nbconvert_exporter": "python",
   "pygments_lexer": "ipython3",
   "version": "3.9.7"
  }
 },
 "nbformat": 4,
 "nbformat_minor": 5
}
